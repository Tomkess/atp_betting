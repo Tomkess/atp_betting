{
 "cells": [
  {
   "cell_type": "markdown",
   "metadata": {},
   "source": [
    "# xgboost prediction with optimization technique for tennis betting\n",
    "\n",
    "In this Kernel I will provide optimization model of obtained classification model. Optimization model allow us to bet optimal amount of cash on corresponding matches within the week.\n",
    "\n",
    "All the data is from http://tennis-data.co.uk/data.php.  \n",
    "We have all the tennis matches played in the ATP World Tour (Grand Slams, Masers, Master 1000 & ATP500) since January 2000, and until March 2018.\n",
    "\n",
    "There is much information in this dataset. This notebook will focus only on a quick analysis of the betting market, and propose a betting strategy that generates a non negligible return on investment. \n",
    "\n",
    "The full code is available on github : https://github.com/Tomkess/atp_betting.git."
   ]
  },
  {
   "cell_type": "code",
   "execution_count": 278,
   "metadata": {},
   "outputs": [
    {
     "name": "stdout",
     "output_type": "stream",
     "text": [
      "<bound method NDFrame.head of            Date       Tournament        Winner              Loser   PSW  \\\n",
      "0    2019-01-14  Australian Open  Anisimova A.       Niculescu M.  1.81   \n",
      "1    2019-01-14  Australian Open      Babos T.          Jabeur O.  2.46   \n",
      "2    2019-01-14  Australian Open    Sakkari M.       Ostapenko J.  1.57   \n",
      "3    2019-01-14  Australian Open  Kontaveit A.  Sorribes Tormo S.  1.16   \n",
      "4    2019-01-14  Australian Open     Kerber A.          Hercog P.  1.04   \n",
      "...         ...              ...           ...                ...   ...   \n",
      "1265 2020-01-30  Australian Open   Muguruza G.           Halep S.  2.53   \n",
      "1266 2020-01-30  Australian Open   Djokovic N.         Federer R.  1.14   \n",
      "1267 2020-01-31  Australian Open      Thiem D.          Zverev A.  1.53   \n",
      "1268 2020-02-01  Australian Open      Kenin S.        Muguruza G.  2.62   \n",
      "1269 2020-02-02  Australian Open   Djokovic N.           Thiem D.  1.27   \n",
      "\n",
      "        PSL  B365W B365L  winner_prob  loser_prob pred_bet  is_win_bet  \\\n",
      "0      2.09   1.72   2.1     0.500580    0.499420   winner           1   \n",
      "1      1.61   2.62   1.5     0.502533    0.497467   winner           1   \n",
      "2      2.56   1.61   2.3     0.492897    0.507103    loser           0   \n",
      "3      6.06   1.12   6.0     0.633515    0.366485   winner           1   \n",
      "4     13.91   1.07   9.0     0.730180    0.269820   winner           1   \n",
      "...     ...    ...   ...          ...         ...      ...         ...   \n",
      "1265   1.60   2.30  1.61     0.494356    0.505644    loser           0   \n",
      "1266   6.84   1.11   6.5     0.519485    0.480515   winner           1   \n",
      "1267   2.73   1.50  2.62     0.502564    0.497436   winner           1   \n",
      "1268   1.57   2.62  1.53     0.500000    0.500000    loser           0   \n",
      "1269   4.27   1.25   4.0     0.532194    0.467806   winner           1   \n",
      "\n",
      "      bet_prob  ps_payoff b365_payoff  is_dummy  \n",
      "0     0.500580       1.81        1.72         1  \n",
      "1     0.502533       2.46        2.62         1  \n",
      "2     0.507103       2.56         2.3         1  \n",
      "3     0.633515       1.16        1.12         1  \n",
      "4     0.730180       1.04        1.07         1  \n",
      "...        ...        ...         ...       ...  \n",
      "1265  0.505644       1.60        1.61         1  \n",
      "1266  0.519485       1.14        1.11         1  \n",
      "1267  0.502564       1.53         1.5         1  \n",
      "1268  0.500000       1.57        1.53         1  \n",
      "1269  0.532194       1.27        1.25         1  \n",
      "\n",
      "[1270 rows x 16 columns]>\n",
      "0.6858267716535433\n"
     ]
    }
   ],
   "source": [
    "# Library Loading\n",
    "import pandas as pd\n",
    "import numpy as np\n",
    "from datetime import datetime,timedelta\n",
    "import matplotlib.pyplot as plt\n",
    "import seaborn as sns\n",
    "\n",
    "# Loading Data\n",
    "atp_data = pd.read_csv(\"Generated Data/atp_data.csv\", low_memory = False)\n",
    "pred_data = pd.read_csv(\"Generated Data/predict_data.csv\", low_memory = False)\n",
    "pred_data[\"Date\"] = pd.to_datetime(pred_data.Date)\n",
    "\n",
    "# Specify Betting Period\n",
    "test_date_i = datetime(2019, 1, 1)\n",
    "\n",
    "atp_data[\"Date\"] = pd.to_datetime(atp_data.Date)\n",
    "atp_data_subset = atp_data[[\"Date\", \"Tournament\", \"Winner\", \"Loser\", \"PSW\", \"PSL\", \"B365W\", \"B365L\"]]\n",
    "atp_data_subset = atp_data_subset[(atp_data_subset.Date > test_date_i)]\n",
    "\n",
    "## ----- Select only TOP Tournament ----- ##\n",
    "atp_data_subset = atp_data_subset[atp_data_subset[\"Tournament\"].isin([\"French Open\", \"Australian Open\", \n",
    "                                                                      \"Wimbledon\", \"US Open\"])]\n",
    "\n",
    "## ----- Assign Win Loss ----- ##\n",
    "master_data = atp_data_subset.merge(pred_data,\n",
    "                                    left_on = [\"Winner\", \"Date\"],\n",
    "                                    right_on = [\"Player\", \"Date\"])\n",
    "master_data = pd.DataFrame(master_data)\n",
    "master_data.rename(columns = {\"1\": \"w_winner\", \"0\":\"l_winner\"}, inplace = True)\n",
    "master_data = master_data.merge(pred_data,\n",
    "                                left_on = [\"Loser\", \"Date\"],\n",
    "                                right_on = [\"Player\", \"Date\"])\n",
    "master_data = pd.DataFrame(master_data)\n",
    "master_data.rename(columns = {\"1\": \"w_loser\", \"0\":\"l_loser\"}, inplace = True)\n",
    "\n",
    "master_data.drop([\"win_loss_x\", \"win_loss_y\", \"Player_x\", \"Player_y\"], axis = 1, inplace = True)\n",
    "master_data[\"winner_prob\"] = master_data[\"w_winner\"]/2 + master_data[\"l_loser\"]/2\n",
    "master_data[\"loser_prob\"] = master_data[\"l_winner\"]/2 + master_data[\"w_loser\"]/2\n",
    "master_data.drop([\"l_winner\", \"w_winner\", \"l_loser\", \"w_loser\"], axis = 1, inplace = True)\n",
    "\n",
    "# - Is prediction Correct?\n",
    "master_data['pred_bet'] = ['winner' if x > 0.5 else 'loser' for x in master_data['winner_prob']]\n",
    "master_data['is_win_bet'] = [1 if x > 0.5 else 0 for x in master_data['winner_prob']]\n",
    "\n",
    "# - Create Payoff Function\n",
    "master_data['bet_prob'] = np.where((master_data['pred_bet'] == \"winner\"), master_data['winner_prob'], master_data[\"loser_prob\"])\n",
    "master_data['ps_payoff'] = np.where((master_data['pred_bet'] == \"winner\"), master_data['PSW'], master_data[\"PSL\"])\n",
    "master_data['b365_payoff'] = np.where((master_data['pred_bet'] == \"winner\"), master_data['B365W'], master_data[\"B365L\"])\n",
    "master_data[\"is_dummy\"] = 1\n",
    "\n",
    "# - Printing Message\n",
    "print(master_data.head)\n",
    "print(master_data.is_win_bet.sum()/len(master_data))"
   ]
  },
  {
   "cell_type": "markdown",
   "metadata": {},
   "source": [
    "# Optimization Model"
   ]
  },
  {
   "cell_type": "markdown",
   "metadata": {},
   "source": [
    "## Optimization Settings"
   ]
  },
  {
   "cell_type": "markdown",
   "metadata": {},
   "source": [
    "Optimization runs on each day. There is unique data frame that controls the matches that we bet on, namely **unique_dates**. There are five restrictions imposed on the list of daily matches.\n",
    "\n",
    "* we bet only on Grandslam Matches (I believe that smaller tournaments are less predictable)\n",
    "\n",
    "* we bet only on matches with probability of win at least 55%\n",
    "\n",
    "* we do not bet on days where there is less then 5 matches in total\n",
    "\n",
    "* in cases with more than 15 matches in a day we take only the first 15 with highest probability of Player to win\n",
    "\n",
    "* we bet 2000 units (USD for example) in each day that fulfill previous restrictions"
   ]
  },
  {
   "cell_type": "markdown",
   "metadata": {},
   "source": [
    "## Description of the Optimization Model\n",
    "\n",
    "The optimization relies on the Portfolio Theory from the field of Finance, namely Sharpe Ratio. During the computation we maximize the Sharpe Ratio with respect to weights (see https://en.wikipedia.org/wiki/Sharpe_ratio).\n",
    "\n",
    "Sharpe Ratio = Exp Returns/SD Returns\n",
    "\n",
    "Expected Returns = w * (prob * payoff - 1), where **prob** is probability of win of Player in the match and **payoff** is corresponding bookmakers odd.\n",
    "\n",
    "SD Returns = weights.T * (payoff * (prob) * (1 - prob)) * weights"
   ]
  },
  {
   "cell_type": "markdown",
   "metadata": {},
   "source": [
    "## Get unique_dates"
   ]
  },
  {
   "cell_type": "code",
   "execution_count": 279,
   "metadata": {},
   "outputs": [
    {
     "name": "stdout",
     "output_type": "stream",
     "text": [
      "<bound method NDFrame.head of          Date  is_dummy       Tournament\n",
      "0  2019-01-14         1  Australian Open\n",
      "1  2019-01-15         1  Australian Open\n",
      "2  2019-01-16         1  Australian Open\n",
      "3  2019-01-17         1  Australian Open\n",
      "4  2019-01-18         1  Australian Open\n",
      "..        ...       ...              ...\n",
      "64 2020-01-29         1  Australian Open\n",
      "65 2020-01-30         1  Australian Open\n",
      "66 2020-01-31         1  Australian Open\n",
      "67 2020-02-01         1  Australian Open\n",
      "68 2020-02-02         1  Australian Open\n",
      "\n",
      "[69 rows x 3 columns]>\n"
     ]
    }
   ],
   "source": [
    "unique_dates = master_data.drop_duplicates([\"Date\", \"is_dummy\", \"Tournament\"])\n",
    "unique_dates = unique_dates[[\"Date\", \"is_dummy\", \"Tournament\"]]\n",
    "unique_dates.reset_index(drop = True, inplace = True)\n",
    "print(unique_dates.head)"
   ]
  },
  {
   "cell_type": "code",
   "execution_count": 283,
   "metadata": {},
   "outputs": [
    {
     "name": "stderr",
     "output_type": "stream",
     "text": [
      "C:\\UserData\\Anaconda3\\lib\\site-packages\\ipykernel_launcher.py:61: SettingWithCopyWarning: \n",
      "A value is trying to be set on a copy of a slice from a DataFrame\n",
      "\n",
      "See the caveats in the documentation: https://pandas.pydata.org/pandas-docs/stable/user_guide/indexing.html#returning-a-view-versus-a-copy\n",
      "C:\\UserData\\Anaconda3\\lib\\site-packages\\ipykernel_launcher.py:62: SettingWithCopyWarning: \n",
      "A value is trying to be set on a copy of a slice from a DataFrame\n",
      "\n",
      "See the caveats in the documentation: https://pandas.pydata.org/pandas-docs/stable/user_guide/indexing.html#returning-a-view-versus-a-copy\n",
      "C:\\UserData\\Anaconda3\\lib\\site-packages\\ipykernel_launcher.py:63: SettingWithCopyWarning: \n",
      "A value is trying to be set on a copy of a slice from a DataFrame\n",
      "\n",
      "See the caveats in the documentation: https://pandas.pydata.org/pandas-docs/stable/user_guide/indexing.html#returning-a-view-versus-a-copy\n"
     ]
    }
   ],
   "source": [
    "from scipy.optimize import minimize\n",
    "\n",
    "unique_dates[\"net_profit\"] = 0\n",
    "unique_dates[\"n_matches\"] = 0\n",
    "unique_dates[\"n_good\"] = 0\n",
    "\n",
    "for i in range(len(unique_dates)):\n",
    "    # i = 1\n",
    "    date_sel = unique_dates.Date[i]\n",
    "    tournament_sel = unique_dates.Tournament[i]\n",
    "    temp_subset = master_data[(master_data.Date == date_sel) & (master_data.Tournament == tournament_sel)]\n",
    "    temp_subset = temp_subset.sort_values(by = ['bet_prob'], ascending = False)\n",
    "    temp_subset = temp_subset[temp_subset.bet_prob > 0.55]\n",
    "    \n",
    "    # print(len(temp_subset))\n",
    "    if(len(temp_subset) > 4):\n",
    "        \n",
    "        if(len(temp_subset) > 15):\n",
    "            temp_subset = temp_subset.head(15)\n",
    "        \n",
    "            # define sharpe ratio function\n",
    "            def get_ret_vol_sr(weights):\n",
    "                \"\"\"\n",
    "                Input - weight vector over which the optimization is running\n",
    "                Output - expected return, voaltility and optima betting stakes\n",
    "                \"\"\"\n",
    "                weights = np.array(weights)\n",
    "                ret = np.sum((temp_subset.bet_prob * temp_subset.ps_payoff - 1) * weights)\n",
    "                vol = np.sqrt(np.dot(weights.T, temp_subset.ps_payoff * (temp_subset.bet_prob) * (1 - temp_subset.bet_prob) * weights))\n",
    "                sr = ret/vol\n",
    "                return np.array([ret, vol, sr])\n",
    "\n",
    "            # minimize negative Sharpe Ratio\n",
    "            def neg_sharpe(weights):\n",
    "                \"\"\"\n",
    "                Input - weight vector\n",
    "                Output - Sharpe Ratio that will be optimized\n",
    "                \"\"\"\n",
    "                return get_ret_vol_sr(weights)[2] * -1\n",
    "\n",
    "            # check allocation sums to 1\n",
    "            def check_sum(weights):\n",
    "                \"\"\"\n",
    "                Input - weights vector\n",
    "                Output - budget is always summed up to 1!\n",
    "                \"\"\"\n",
    "                return np.sum(weights) - 1\n",
    "\n",
    "            # create constraint variable\n",
    "            cons = ({'type':'eq', 'fun':check_sum})\n",
    "\n",
    "            # create weight boundaries\n",
    "            bounds = ((0.01, 1),) * len(temp_subset)\n",
    "\n",
    "            # initial guess\n",
    "            init_guess = np.repeat(1/len(temp_subset), len(temp_subset), axis = 0)\n",
    "\n",
    "            # run optimization\n",
    "            opt_results = minimize(neg_sharpe, init_guess, method = 'SLSQP', bounds = bounds, constraints = cons)\n",
    "\n",
    "            unique_dates.n_matches[i] = len(temp_subset)\n",
    "            unique_dates.n_good[i] = np.sum(temp_subset.is_win_bet)\n",
    "            unique_dates.net_profit[i] = np.sum(2000 * opt_results.x * (temp_subset.ps_payoff) * temp_subset.is_win_bet) - 2000"
   ]
  },
  {
   "cell_type": "markdown",
   "metadata": {},
   "source": [
    "## Cumulative Net Balanace of Betting"
   ]
  },
  {
   "cell_type": "code",
   "execution_count": 284,
   "metadata": {
    "scrolled": true
   },
   "outputs": [
    {
     "data": {
      "text/plain": [
       "<matplotlib.axes._subplots.AxesSubplot at 0x1efe977cdc8>"
      ]
     },
     "execution_count": 284,
     "metadata": {},
     "output_type": "execute_result"
    },
    {
     "data": {
      "image/png": "[encoded data removed]",
      "text/plain": [
       "<Figure size 432x288 with 1 Axes>"
      ]
     },
     "metadata": {
      "needs_background": "light"
     },
     "output_type": "display_data"
    }
   ],
   "source": [
    "unique_dates.net_profit.cumsum().plot()"
   ]
  },
  {
   "cell_type": "markdown",
   "metadata": {},
   "source": [
    "## Cumulative Accuracy"
   ]
  },
  {
   "cell_type": "code",
   "execution_count": 285,
   "metadata": {},
   "outputs": [
    {
     "data": {
      "text/plain": [
       "<matplotlib.axes._subplots.AxesSubplot at 0x1efe98d1ac8>"
      ]
     },
     "execution_count": 285,
     "metadata": {},
     "output_type": "execute_result"
    },
    {
     "data": {
      "image/png": "[encoded data removed]",
      "text/plain": [
       "<Figure size 432x288 with 1 Axes>"
      ]
     },
     "metadata": {
      "needs_background": "light"
     },
     "output_type": "display_data"
    }
   ],
   "source": [
    "(unique_dates.n_good.cumsum()/(unique_dates.n_matches + 1).cumsum()).plot()"
   ]
  },
  {
   "cell_type": "markdown",
   "metadata": {},
   "source": [
    "# Conclusion"
   ]
  },
  {
   "cell_type": "markdown",
   "metadata": {},
   "source": [
    "In the project I focused on applying machine learnign model for predicting the results of tennis matches. On the predictions, we applied optimization technique that allow us to bet on each match such amount that reflect the risk of bets and maximizes the expected returns.\n",
    "\n",
    "From the results, we might see that matches are predictable to some degree and with more changes in optimization setting and applied method, we might see some nice results."
   ]
  }
 ],
 "metadata": {
  "kernelspec": {
   "display_name": "Python 3",
   "language": "python",
   "name": "python3"
  },
  "language_info": {
   "codemirror_mode": {
    "name": "ipython",
    "version": 3
   },
   "file_extension": ".py",
   "mimetype": "text/x-python",
   "name": "python",
   "nbconvert_exporter": "python",
   "pygments_lexer": "ipython3",
   "version": "3.7.6"
  }
 },
 "nbformat": 4,
 "nbformat_minor": 2
}
